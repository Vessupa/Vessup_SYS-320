{
 "cells": [
  {
   "cell_type": "code",
   "execution_count": 1,
   "metadata": {},
   "outputs": [
    {
     "data": {
      "text/plain": [
       "<module 'LinuxLogCheck_SSHD' from 'c:\\\\Users\\\\Asani-Web\\\\Documents\\\\Vessup_SYS-320\\\\Week01\\\\Homework\\\\LinuxLogCheck_SSHD.py'>"
      ]
     },
     "execution_count": 1,
     "metadata": {},
     "output_type": "execute_result"
    }
   ],
   "source": [
    "import LinuxLogCheck_Klogind\n",
    "import LinuxLogCheck_SSHD\n",
    "import importlib\n",
    "\n",
    "importlib.reload(LinuxLogCheck_Klogind)\n",
    "importlib.reload(LinuxLogCheck_SSHD)\n",
    "\n",
    "\n",
    "# Review system logs"
   ]
  },
  {
   "cell_type": "markdown",
   "metadata": {},
   "source": [
    "SSH Authentication Failure Domains"
   ]
  },
  {
   "cell_type": "code",
   "execution_count": 2,
   "metadata": {},
   "outputs": [
    {
     "data": {
      "text/plain": [
       "'Jun 30 22:16:32 combo sshd(pam_unix)[19432]: session opened for user test by (uid=509)'"
      ]
     },
     "execution_count": 2,
     "metadata": {},
     "output_type": "execute_result"
    }
   ],
   "source": [
    "#syslogCheck_SSHD._syslog('../../Logs/Linux_2k.log',['.*sshd\\(pam_unix\\).*19432.*session opened for.*'])\n",
    "\n",
    "LinuxLogCheck_SSHD._syslog('../../Logs/Linux_2k.log',['.*sshd\\(pam_unix\\).*19432.*session opened for.*'])\n",
    "\n",
    "#'sshd\\(pam_unix\\).*session opened for user test.*'"
   ]
  },
  {
   "cell_type": "markdown",
   "metadata": {},
   "source": [
    "SSHD"
   ]
  },
  {
   "cell_type": "code",
   "execution_count": 167,
   "metadata": {},
   "outputs": [
    {
     "data": {
      "text/plain": [
       "'Jun 30 20:53:06 combo klogind[19280]: Authentication failed from 163.27.187.39 (163.27.187.39): Software caused connection abort '"
      ]
     },
     "execution_count": 167,
     "metadata": {},
     "output_type": "execute_result"
    }
   ],
   "source": [
    "LinuxLogCheck_Klogind._syslog('../../Logs/Linux_2k.log',['.*klogind.*19280.*Authentication failed.*'])"
   ]
  },
  {
   "cell_type": "markdown",
   "metadata": {},
   "source": [
    "Klogind"
   ]
  }
 ],
 "metadata": {
  "interpreter": {
   "hash": "311b9ccbe180bbf0e05d9c494a0d034baa234de58df97f8a2a5872ad2fc79e8c"
  },
  "kernelspec": {
   "display_name": "Python 3.9.10 64-bit (windows store)",
   "language": "python",
   "name": "python3"
  },
  "language_info": {
   "codemirror_mode": {
    "name": "ipython",
    "version": 3
   },
   "file_extension": ".py",
   "mimetype": "text/x-python",
   "name": "python",
   "nbconvert_exporter": "python",
   "pygments_lexer": "ipython3",
   "version": "3.10.2"
  },
  "orig_nbformat": 4
 },
 "nbformat": 4,
 "nbformat_minor": 2
}
