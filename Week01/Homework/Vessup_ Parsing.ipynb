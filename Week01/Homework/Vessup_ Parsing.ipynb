{
 "cells": [
  {
   "cell_type": "code",
   "execution_count": 11,
   "metadata": {},
   "outputs": [
    {
     "data": {
      "text/plain": [
       "<module 'syslogSSH' from 'c:\\\\Users\\\\Asani-Web\\\\Documents\\\\Vessup_SYS-320\\\\Week01\\\\Homework\\\\syslogSSH.py'>"
      ]
     },
     "execution_count": 11,
     "metadata": {},
     "output_type": "execute_result"
    }
   ],
   "source": [
    "import syslogSSH\n",
    "import importlib\n",
    "importlib.reload(syslogSSH)\n",
    "\n",
    "\n",
    "# Review system logs"
   ]
  },
  {
   "cell_type": "markdown",
   "metadata": {},
   "source": [
    "SSH Authentication Failure Domains"
   ]
  },
  {
   "cell_type": "code",
   "execution_count": 15,
   "metadata": {},
   "outputs": [
    {
     "name": "stdout",
     "output_type": "stream",
     "text": [
      "sshd(pam_unix)[19432]: session opened for user test by (uid=509)\n",
      "sshd(pam_unix)[19432]: session opened for user test by (uid=509)\n",
      "['user']\n"
     ]
    }
   ],
   "source": [
    "syslogSSH.ssh_fail('../../Logs/Linux_2k.log',['sshd\\(pam_unix\\).*19432.*session opened for.*'])\n",
    "\n",
    "#'sshd\\(pam_unix\\).*session opened for user test.*'"
   ]
  },
  {
   "cell_type": "markdown",
   "metadata": {},
   "source": [
    "SSHD"
   ]
  },
  {
   "cell_type": "code",
   "execution_count": 16,
   "metadata": {},
   "outputs": [
    {
     "name": "stdout",
     "output_type": "stream",
     "text": [
      "klogind[19280]: Kerberos authentication failed \n",
      "klogind[19280]: Kerberos authentication failed \n",
      "['']\n"
     ]
    }
   ],
   "source": [
    "syslogSSH.ssh_fail('../../Logs/Linux_2k.log',['klogind.*19280.*authentication failed.*'])"
   ]
  }
 ],
 "metadata": {
  "interpreter": {
   "hash": "311b9ccbe180bbf0e05d9c494a0d034baa234de58df97f8a2a5872ad2fc79e8c"
  },
  "kernelspec": {
   "display_name": "Python 3.9.10 64-bit (windows store)",
   "language": "python",
   "name": "python3"
  },
  "language_info": {
   "codemirror_mode": {
    "name": "ipython",
    "version": 3
   },
   "file_extension": ".py",
   "mimetype": "text/x-python",
   "name": "python",
   "nbconvert_exporter": "python",
   "pygments_lexer": "ipython3",
   "version": "3.9.10"
  },
  "orig_nbformat": 4
 },
 "nbformat": 4,
 "nbformat_minor": 2
}
