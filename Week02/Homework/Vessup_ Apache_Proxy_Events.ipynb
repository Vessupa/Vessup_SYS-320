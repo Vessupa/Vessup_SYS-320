{
 "cells": [
  {
   "cell_type": "code",
   "execution_count": 183,
   "metadata": {},
   "outputs": [
    {
     "data": {
      "text/plain": [
       "<module 'ProxyLog' from 'c:\\\\Users\\\\Asani-Web\\\\Documents\\\\Vessup_SYS-320\\\\Week02\\\\Homework\\\\ProxyLog.py'>"
      ]
     },
     "execution_count": 183,
     "metadata": {},
     "output_type": "execute_result"
    }
   ],
   "source": [
    "import sys\n",
    "import ProxyLog\n",
    "import apacheLog\n",
    "import importlib\n",
    "importlib.reload(apacheLog)\n",
    "importlib.reload(ProxyLog)\n",
    "\n",
    "\n",
    "\n"
   ]
  },
  {
   "cell_type": "markdown",
   "metadata": {},
   "source": [
    "### Apache PHP"
   ]
  },
  {
   "cell_type": "code",
   "execution_count": 184,
   "metadata": {},
   "outputs": [
    {
     "name": "stdout",
     "output_type": "stream",
     "text": [
      "GET /wordpress/wp-login.php 404\n"
     ]
    }
   ],
   "source": [
    "apacheLog.apache_events('../../Logs/access.log','apache','php')"
   ]
  },
  {
   "cell_type": "markdown",
   "metadata": {},
   "source": [
    "### Apache CGI"
   ]
  },
  {
   "cell_type": "code",
   "execution_count": 185,
   "metadata": {},
   "outputs": [
    {
     "name": "stdout",
     "output_type": "stream",
     "text": [
      "GET /cgi-bin/htsearch?Exclude=%60/etc/passwd%60 404\n"
     ]
    }
   ],
   "source": [
    "apacheLog.apache_events('../../Logs/access.log','apache','cgi')"
   ]
  },
  {
   "cell_type": "markdown",
   "metadata": {},
   "source": [
    "### Proxy Threats"
   ]
  },
  {
   "cell_type": "code",
   "execution_count": 186,
   "metadata": {},
   "outputs": [
    {
     "name": "stdout",
     "output_type": "stream",
     "text": [
      "QQ.exe 2052.flash2-http.qq.com:80 close, 466 bytes sent 125682 bytes recieved \n",
      "QQ.exe cgi.qqweb.qq.com:80 close, 477 bytes sent 448 bytes recieved \n",
      "QQ.exe 2052.flash2-http.qq.com:80 close, 466 bytes sent 125682 bytes recieved \n",
      "QQ.exe cgi.qqweb.qq.com:80 close, 477 bytes sent 448 bytes recieved \n",
      "QQ.exe 2052.flash2-http.qq.com:80 close, 466 bytes sent 125682 bytes recieved \n",
      "QQ.exe qqmail.tencent.com:80 close, 336 bytes sent 2854 bytes recieved \n",
      "QQ.exe cgi.qqweb.qq.com:80 close, 477 bytes sent 448 bytes recieved \n",
      "QQ.exe 2052.flash2-http.qq.com:80 close, 466 bytes sent 125682 bytes recieved \n",
      "QQ.exe showxml.qq.com:80 close, 600 bytes sent 1716 bytes recieved \n",
      "QQ.exe qqmail.tencent.com:80 close, 336 bytes sent 2854 bytes recieved \n",
      "QQ.exe cgi.qqweb.qq.com:80 close, 477 bytes sent 448 bytes recieved \n",
      "QQ.exe qqmail.tencent.com:80 close, 336 bytes sent 2854 bytes recieved \n",
      "QQ.exe tcpconn.tencent.com:80 close, 133 bytes sent 0 bytes recieved \n",
      "QQ.exe 2052.flash2-http.qq.com:80 close, 466 bytes sent 125682 bytes recieved \n",
      "QQ.exe showxml.qq.com:80 close, 600 bytes sent 1716 bytes recieved \n",
      "QQ.exe cgi.qqweb.qq.com:80 close, 477 bytes sent 448 bytes recieved \n",
      "QQ.exe qqmail.tencent.com:80 close, 336 bytes sent 2854 bytes recieved \n",
      "QQ.exe tcpconn.tencent.com:80 close, 133 bytes sent 0 bytes recieved \n",
      "QQ.exe tcpconn3.tencent.com:443 close, 149 bytes sent 121 bytes recieved \n",
      "QQ.exe 2052.flash2-http.qq.com:80 close, 466 bytes sent 125682 bytes recieved \n",
      "QQ.exe showxml.qq.com:80 close, 600 bytes sent 1716 bytes recieved \n",
      "QQ.exe cgi.qqweb.qq.com:80 close, 477 bytes sent 448 bytes recieved \n",
      "QQ.exe qqmail.tencent.com:80 close, 336 bytes sent 2854 bytes recieved \n",
      "QQ.exe tcpconn.tencent.com:80 close, 133 bytes sent 0 bytes recieved \n",
      "QQ.exe tcpconn3.tencent.com:443 close, 149 bytes sent 121 bytes recieved \n",
      "QQ.exe 2052.flash2-http.qq.com:80 close, 466 bytes sent 125682 bytes recieved \n",
      "QQ.exe tcpconn3.tencent.com:80 close, 0 bytes sent 0 bytes recieved \n",
      "QQ.exe showxml.qq.com:80 close, 600 bytes sent 1716 bytes recieved \n",
      "QQ.exe cgi.qqweb.qq.com:80 close, 477 bytes sent 448 bytes recieved \n",
      "QQ.exe qqmail.tencent.com:80 close, 336 bytes sent 2854 bytes recieved \n",
      "QQ.exe tcpconn.tencent.com:80 close, 133 bytes sent 0 bytes recieved \n",
      "QQ.exe tcpconn3.tencent.com:443 close, 149 bytes sent 121 bytes recieved \n",
      "QQ.exe 2052.flash2-http.qq.com:80 close, 466 bytes sent 125682 bytes recieved \n",
      "QQ.exe tcpconn3.tencent.com:80 close, 0 bytes sent 0 bytes recieved \n",
      "QQ.exe showxml.qq.com:80 close, 600 bytes sent 1716 bytes recieved \n",
      "QQ.exe tcpconn6.tencent.com:443 close, 0 bytes sent 0 bytes recieved \n",
      "QQ.exe cgi.qqweb.qq.com:80 close, 477 bytes sent 448 bytes recieved \n",
      "QQ.exe qqmail.tencent.com:80 close, 336 bytes sent 2854 bytes recieved \n",
      "QQ.exe tcpconn.tencent.com:80 close, 133 bytes sent 0 bytes recieved \n",
      "QQ.exe tcpconn3.tencent.com:443 close, 149 bytes sent 121 bytes recieved \n",
      "QQ.exe 2052.flash2-http.qq.com:80 close, 466 bytes sent 125682 bytes recieved \n",
      "QQ.exe tcpconn3.tencent.com:80 close, 0 bytes sent 0 bytes recieved \n",
      "QQ.exe showxml.qq.com:80 close, 600 bytes sent 1716 bytes recieved \n",
      "QQ.exe tcpconn6.tencent.com:80 close, 0 bytes sent 0 bytes recieved \n",
      "QQ.exe tcpconn6.tencent.com:443 close, 0 bytes sent 0 bytes recieved \n",
      "QQ.exe cgi.qqweb.qq.com:80 close, 477 bytes sent 448 bytes recieved \n",
      "QQ.exe qqmail.tencent.com:80 close, 336 bytes sent 2854 bytes recieved \n",
      "QQ.exe tcpconn.tencent.com:80 close, 133 bytes sent 0 bytes recieved \n",
      "QQ.exe tcpconn3.tencent.com:443 close, 149 bytes sent 121 bytes recieved \n",
      "QQ.exe 2052.flash2-http.qq.com:80 close, 466 bytes sent 125682 bytes recieved \n",
      "QQ.exe tcpconn3.tencent.com:80 close, 0 bytes sent 0 bytes recieved \n",
      "QQ.exe showxml.qq.com:80 close, 600 bytes sent 1716 bytes recieved \n",
      "QQProtectUpd.exe qdun-data.qq.com:443 close, 261 bytes sent 70 bytes recieved \n",
      "QQ.exe tcpconn6.tencent.com:80 close, 0 bytes sent 0 bytes recieved \n",
      "QQ.exe tcpconn6.tencent.com:443 close, 0 bytes sent 0 bytes recieved \n"
     ]
    }
   ],
   "source": [
    "ProxyLog.apache_events('../../Logs/Proxifier_2k.log','proxy','qq')"
   ]
  }
 ],
 "metadata": {
  "interpreter": {
   "hash": "311b9ccbe180bbf0e05d9c494a0d034baa234de58df97f8a2a5872ad2fc79e8c"
  },
  "kernelspec": {
   "display_name": "Python 3.9.10 64-bit (windows store)",
   "language": "python",
   "name": "python3"
  },
  "language_info": {
   "codemirror_mode": {
    "name": "ipython",
    "version": 3
   },
   "file_extension": ".py",
   "mimetype": "text/x-python",
   "name": "python",
   "nbconvert_exporter": "python",
   "pygments_lexer": "ipython3",
   "version": "3.10.2"
  },
  "orig_nbformat": 4
 },
 "nbformat": 4,
 "nbformat_minor": 2
}
