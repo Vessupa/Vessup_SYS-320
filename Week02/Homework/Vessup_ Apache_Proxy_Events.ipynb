{
 "cells": [
  {
   "cell_type": "code",
   "execution_count": null,
   "metadata": {},
   "outputs": [],
   "source": [
    "import sys\n",
    "import ProxyLog\n",
    "import apacheLog\n",
    "import importlib\n",
    "importlib.reload(apacheLog)\n",
    "importlib.reload(ProxyLog)\n",
    "\n",
    "\n",
    "\n"
   ]
  },
  {
   "cell_type": "markdown",
   "metadata": {},
   "source": [
    "### Apache PHP"
   ]
  },
  {
   "cell_type": "code",
   "execution_count": 1,
   "metadata": {},
   "outputs": [
    {
     "ename": "NameError",
     "evalue": "name 'apacheLog' is not defined",
     "output_type": "error",
     "traceback": [
      "\u001b[1;31m---------------------------------------------------------------------------\u001b[0m",
      "\u001b[1;31mNameError\u001b[0m                                 Traceback (most recent call last)",
      "\u001b[1;32mc:\\Users\\Asani-Web\\Documents\\Vessup_SYS-320\\Week02\\Homework\\Vessup_ Apache_Proxy_Events.ipynb Cell 3'\u001b[0m in \u001b[0;36m<module>\u001b[1;34m\u001b[0m\n\u001b[1;32m----> <a href='vscode-notebook-cell:/c%3A/Users/Asani-Web/Documents/Vessup_SYS-320/Week02/Homework/Vessup_%20Apache_Proxy_Events.ipynb#ch0000002?line=0'>1</a>\u001b[0m apacheLog\u001b[39m.\u001b[39mapache_events(\u001b[39m'\u001b[39m\u001b[39m../../Logs/access.log\u001b[39m\u001b[39m'\u001b[39m,\u001b[39m'\u001b[39m\u001b[39mapache\u001b[39m\u001b[39m'\u001b[39m,\u001b[39m'\u001b[39m\u001b[39mphp\u001b[39m\u001b[39m'\u001b[39m)\n",
      "\u001b[1;31mNameError\u001b[0m: name 'apacheLog' is not defined"
     ]
    }
   ],
   "source": [
    "apacheLog.apache_events('../../Logs/access.log','apache','php')"
   ]
  },
  {
   "cell_type": "markdown",
   "metadata": {},
   "source": [
    "### Apache CGI"
   ]
  },
  {
   "cell_type": "code",
   "execution_count": 4,
   "metadata": {},
   "outputs": [
    {
     "ename": "NameError",
     "evalue": "name 'keywords' is not defined",
     "output_type": "error",
     "traceback": [
      "\u001b[1;31m---------------------------------------------------------------------------\u001b[0m",
      "\u001b[1;31mNameError\u001b[0m                                 Traceback (most recent call last)",
      "\u001b[1;32mc:\\Users\\Asani-Web\\Documents\\Vessup_SYS-320\\Week02\\Homework\\Vessup_ Apache_Proxy_Events.ipynb Cell 5'\u001b[0m in \u001b[0;36m<module>\u001b[1;34m\u001b[0m\n\u001b[1;32m----> <a href='vscode-notebook-cell:/c%3A/Users/Asani-Web/Documents/Vessup_SYS-320/Week02/Homework/Vessup_%20Apache_Proxy_Events.ipynb#ch0000004?line=0'>1</a>\u001b[0m apacheLog\u001b[39m.\u001b[39;49mapache_events(\u001b[39m'\u001b[39;49m\u001b[39m../../Logs/access.log\u001b[39;49m\u001b[39m'\u001b[39;49m,\u001b[39m'\u001b[39;49m\u001b[39mapache\u001b[39;49m\u001b[39m'\u001b[39;49m,\u001b[39m'\u001b[39;49m\u001b[39mcgi\u001b[39;49m\u001b[39m'\u001b[39;49m)\n",
      "File \u001b[1;32mc:\\Users\\Asani-Web\\Documents\\Vessup_SYS-320\\Week02\\Homework\\apacheLog.py:14\u001b[0m, in \u001b[0;36mapache_events\u001b[1;34m(filename, service, term)\u001b[0m\n\u001b[0;32m      <a href='file:///c%3A/Users/Asani-Web/Documents/Vessup_SYS-320/Week02/Homework/apacheLog.py?line=7'>8</a>\u001b[0m \u001b[39mdef\u001b[39;00m \u001b[39mapache_events\u001b[39m(filename, service, term):\n\u001b[0;32m      <a href='file:///c%3A/Users/Asani-Web/Documents/Vessup_SYS-320/Week02/Homework/apacheLog.py?line=8'>9</a>\u001b[0m \n\u001b[0;32m     <a href='file:///c%3A/Users/Asani-Web/Documents/Vessup_SYS-320/Week02/Homework/apacheLog.py?line=9'>10</a>\u001b[0m     \n\u001b[0;32m     <a href='file:///c%3A/Users/Asani-Web/Documents/Vessup_SYS-320/Week02/Homework/apacheLog.py?line=10'>11</a>\u001b[0m \n\u001b[0;32m     <a href='file:///c%3A/Users/Asani-Web/Documents/Vessup_SYS-320/Week02/Homework/apacheLog.py?line=11'>12</a>\u001b[0m     \u001b[39m# Call syslogCheck and return the results\u001b[39;00m\n\u001b[1;32m---> <a href='file:///c%3A/Users/Asani-Web/Documents/Vessup_SYS-320/Week02/Homework/apacheLog.py?line=13'>14</a>\u001b[0m     is_found \u001b[39m=\u001b[39m logCheck\u001b[39m.\u001b[39;49m_logs(filename, service, term)\n\u001b[0;32m     <a href='file:///c%3A/Users/Asani-Web/Documents/Vessup_SYS-320/Week02/Homework/apacheLog.py?line=15'>16</a>\u001b[0m     \u001b[39m# found list\u001b[39;00m\n\u001b[0;32m     <a href='file:///c%3A/Users/Asani-Web/Documents/Vessup_SYS-320/Week02/Homework/apacheLog.py?line=16'>17</a>\u001b[0m     found \u001b[39m=\u001b[39m []\n",
      "File \u001b[1;32mc:\\Users\\Asani-Web\\Documents\\Vessup_SYS-320\\Week02\\Homework\\logCheck.py:20\u001b[0m, in \u001b[0;36m_logs\u001b[1;34m(filename, service, term)\u001b[0m\n\u001b[0;32m     <a href='file:///c%3A/Users/Asani-Web/Documents/Vessup_SYS-320/Week02/Homework/logCheck.py?line=14'>15</a>\u001b[0m \u001b[39mdef\u001b[39;00m \u001b[39m_logs\u001b[39m(filename,service, term):\n\u001b[0;32m     <a href='file:///c%3A/Users/Asani-Web/Documents/Vessup_SYS-320/Week02/Homework/logCheck.py?line=15'>16</a>\u001b[0m \n\u001b[0;32m     <a href='file:///c%3A/Users/Asani-Web/Documents/Vessup_SYS-320/Week02/Homework/logCheck.py?line=16'>17</a>\u001b[0m     \u001b[39m# Query the yaml file for the 'term' or direction and\u001b[39;00m\n\u001b[0;32m     <a href='file:///c%3A/Users/Asani-Web/Documents/Vessup_SYS-320/Week02/Homework/logCheck.py?line=17'>18</a>\u001b[0m     \u001b[39m# retrieve the strings to search on.\u001b[39;00m\n\u001b[0;32m     <a href='file:///c%3A/Users/Asani-Web/Documents/Vessup_SYS-320/Week02/Homework/logCheck.py?line=18'>19</a>\u001b[0m     \u001b[39m# terms = keywords['apache']['php']\u001b[39;00m\n\u001b[1;32m---> <a href='file:///c%3A/Users/Asani-Web/Documents/Vessup_SYS-320/Week02/Homework/logCheck.py?line=19'>20</a>\u001b[0m     terms \u001b[39m=\u001b[39m keywords[service][term]\n\u001b[0;32m     <a href='file:///c%3A/Users/Asani-Web/Documents/Vessup_SYS-320/Week02/Homework/logCheck.py?line=21'>22</a>\u001b[0m     listOfKeywords \u001b[39m=\u001b[39m terms\u001b[39m.\u001b[39msplit(\u001b[39m\"\u001b[39m\u001b[39m,\u001b[39m\u001b[39m\"\u001b[39m)\n\u001b[0;32m     <a href='file:///c%3A/Users/Asani-Web/Documents/Vessup_SYS-320/Week02/Homework/logCheck.py?line=23'>24</a>\u001b[0m     \u001b[39mwith\u001b[39;00m \u001b[39mopen\u001b[39m(filename) \u001b[39mas\u001b[39;00m f:\n",
      "\u001b[1;31mNameError\u001b[0m: name 'keywords' is not defined"
     ]
    }
   ],
   "source": [
    "apacheLog.apache_events('../../Logs/access.log','apache','cgi')"
   ]
  },
  {
   "cell_type": "markdown",
   "metadata": {},
   "source": [
    "### Proxy Threats"
   ]
  },
  {
   "cell_type": "code",
   "execution_count": null,
   "metadata": {},
   "outputs": [],
   "source": [
    "ProxyLog.apache_events('../../Logs/Proxifier_2k.log','proxy','qq')"
   ]
  }
 ],
 "metadata": {
  "interpreter": {
   "hash": "311b9ccbe180bbf0e05d9c494a0d034baa234de58df97f8a2a5872ad2fc79e8c"
  },
  "kernelspec": {
   "display_name": "Python 3.9.10 64-bit (windows store)",
   "language": "python",
   "name": "python3"
  },
  "language_info": {
   "codemirror_mode": {
    "name": "ipython",
    "version": 3
   },
   "file_extension": ".py",
   "mimetype": "text/x-python",
   "name": "python",
   "nbconvert_exporter": "python",
   "pygments_lexer": "ipython3",
   "version": "3.10.0"
  },
  "orig_nbformat": 4
 },
 "nbformat": 4,
 "nbformat_minor": 2
}
