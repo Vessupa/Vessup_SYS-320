{
 "cells": [
  {
   "cell_type": "code",
   "execution_count": 19,
   "metadata": {},
   "outputs": [],
   "source": [
    "import paramiko\n",
    "from getpass import getpass\n",
    "\n",
    "# Create the password prompt\n",
    "thePass = getpass(prompt=\"Please enter your SSH password: \")\n",
    "\n",
    "# Host information\n",
    "host = \"127.0.0.1\"\n",
    "port = 22\n",
    "username = \"asani-web\"\n",
    "password = thePass\n",
    "\n",
    "try:\n",
    "\n",
    "    ssh = paramiko.SSHClient()\n",
    "    ssh.set_missing_host_key_policy(paramiko.AutoAddPolicy())\n",
    "    ssh.connect(host, port, username, password)\n",
    "\n",
    "except paramiko.AuthenticationException:\n",
    "    print(\"Authentication failed.\")"
   ]
  },
  {
   "cell_type": "code",
   "execution_count": 20,
   "metadata": {},
   "outputs": [
    {
     "ename": "FileNotFoundError",
     "evalue": "[Errno 2] No such file",
     "output_type": "error",
     "traceback": [
      "\u001b[1;31m---------------------------------------------------------------------------\u001b[0m",
      "\u001b[1;31mFileNotFoundError\u001b[0m                         Traceback (most recent call last)",
      "\u001b[1;32mc:\\Users\\Asani-Web\\Documents\\Vessup_SYS-320\\Week06\\Class\\sftp_Console.ipynb Cell 2'\u001b[0m in \u001b[0;36m<module>\u001b[1;34m\u001b[0m\n\u001b[0;32m     <a href='vscode-notebook-cell:/c%3A/Users/Asani-Web/Documents/Vessup_SYS-320/Week06/Class/sftp_Console.ipynb#ch0000001?line=18'>19</a>\u001b[0m     \u001b[39m# print(filename)\u001b[39;00m\n\u001b[0;32m     <a href='vscode-notebook-cell:/c%3A/Users/Asani-Web/Documents/Vessup_SYS-320/Week06/Class/sftp_Console.ipynb#ch0000001?line=19'>20</a>\u001b[0m \n\u001b[0;32m     <a href='vscode-notebook-cell:/c%3A/Users/Asani-Web/Documents/Vessup_SYS-320/Week06/Class/sftp_Console.ipynb#ch0000001?line=20'>21</a>\u001b[0m     \u001b[39m# Local path to store files\u001b[39;00m\n\u001b[0;32m     <a href='vscode-notebook-cell:/c%3A/Users/Asani-Web/Documents/Vessup_SYS-320/Week06/Class/sftp_Console.ipynb#ch0000001?line=22'>23</a>\u001b[0m     local_path \u001b[39m=\u001b[39m \u001b[39m\"\u001b[39m\u001b[39mC:\u001b[39m\u001b[39m\\\\\u001b[39;00m\u001b[39mUsers\u001b[39m\u001b[39m\\\\\u001b[39;00m\u001b[39mAsani-Web\u001b[39m\u001b[39m\\\\\u001b[39;00m\u001b[39mDocuments\u001b[39m\u001b[39m\\\\\u001b[39;00m\u001b[39mVessup_SYS-320\u001b[39m\u001b[39m\\\\\u001b[39;00m\u001b[39mWeek06/Class\u001b[39m\u001b[39m\\\\\u001b[39;00m\u001b[39m\"\u001b[39m \u001b[39m+\u001b[39m filename\n\u001b[1;32m---> <a href='vscode-notebook-cell:/c%3A/Users/Asani-Web/Documents/Vessup_SYS-320/Week06/Class/sftp_Console.ipynb#ch0000001?line=25'>26</a>\u001b[0m     sftp\u001b[39m.\u001b[39;49mget(eachFile, local_path)\n\u001b[0;32m     <a href='vscode-notebook-cell:/c%3A/Users/Asani-Web/Documents/Vessup_SYS-320/Week06/Class/sftp_Console.ipynb#ch0000001?line=27'>28</a>\u001b[0m \u001b[39m#sftp.get(\"C:/Users/Asani-Web/Documents/Vessup_SYS-320/Week06/Class/hostFiles\", 'C:/Users/Asani-Web/Documents/Vessup_SYS-320/Week06/Class/hostFiles')\u001b[39;00m\n\u001b[0;32m     <a href='vscode-notebook-cell:/c%3A/Users/Asani-Web/Documents/Vessup_SYS-320/Week06/Class/sftp_Console.ipynb#ch0000001?line=29'>30</a>\u001b[0m ssh\u001b[39m.\u001b[39mclose()\n",
      "File \u001b[1;32m~\\AppData\\Local\\Programs\\Python\\Python310\\lib\\site-packages\\paramiko\\sftp_client.py:811\u001b[0m, in \u001b[0;36mSFTPClient.get\u001b[1;34m(self, remotepath, localpath, callback, prefetch)\u001b[0m\n\u001b[0;32m    <a href='file:///~/AppData/Local/Programs/Python/Python310/lib/site-packages/paramiko/sftp_client.py?line=790'>791</a>\u001b[0m \u001b[39m\"\"\"\u001b[39;00m\n\u001b[0;32m    <a href='file:///~/AppData/Local/Programs/Python/Python310/lib/site-packages/paramiko/sftp_client.py?line=791'>792</a>\u001b[0m \u001b[39mCopy a remote file (``remotepath``) from the SFTP server to the local\u001b[39;00m\n\u001b[0;32m    <a href='file:///~/AppData/Local/Programs/Python/Python310/lib/site-packages/paramiko/sftp_client.py?line=792'>793</a>\u001b[0m \u001b[39mhost as ``localpath``.  Any exception raised by operations will be\u001b[39;00m\n\u001b[1;32m   (...)\u001b[0m\n\u001b[0;32m    <a href='file:///~/AppData/Local/Programs/Python/Python310/lib/site-packages/paramiko/sftp_client.py?line=807'>808</a>\u001b[0m \u001b[39m    Added the ``prefetch`` keyword argument.\u001b[39;00m\n\u001b[0;32m    <a href='file:///~/AppData/Local/Programs/Python/Python310/lib/site-packages/paramiko/sftp_client.py?line=808'>809</a>\u001b[0m \u001b[39m\"\"\"\u001b[39;00m\n\u001b[0;32m    <a href='file:///~/AppData/Local/Programs/Python/Python310/lib/site-packages/paramiko/sftp_client.py?line=809'>810</a>\u001b[0m \u001b[39mwith\u001b[39;00m \u001b[39mopen\u001b[39m(localpath, \u001b[39m\"\u001b[39m\u001b[39mwb\u001b[39m\u001b[39m\"\u001b[39m) \u001b[39mas\u001b[39;00m fl:\n\u001b[1;32m--> <a href='file:///~/AppData/Local/Programs/Python/Python310/lib/site-packages/paramiko/sftp_client.py?line=810'>811</a>\u001b[0m     size \u001b[39m=\u001b[39m \u001b[39mself\u001b[39;49m\u001b[39m.\u001b[39;49mgetfo(remotepath, fl, callback, prefetch)\n\u001b[0;32m    <a href='file:///~/AppData/Local/Programs/Python/Python310/lib/site-packages/paramiko/sftp_client.py?line=811'>812</a>\u001b[0m s \u001b[39m=\u001b[39m os\u001b[39m.\u001b[39mstat(localpath)\n\u001b[0;32m    <a href='file:///~/AppData/Local/Programs/Python/Python310/lib/site-packages/paramiko/sftp_client.py?line=812'>813</a>\u001b[0m \u001b[39mif\u001b[39;00m s\u001b[39m.\u001b[39mst_size \u001b[39m!=\u001b[39m size:\n",
      "File \u001b[1;32m~\\AppData\\Local\\Programs\\Python\\Python310\\lib\\site-packages\\paramiko\\sftp_client.py:782\u001b[0m, in \u001b[0;36mSFTPClient.getfo\u001b[1;34m(self, remotepath, fl, callback, prefetch)\u001b[0m\n\u001b[0;32m    <a href='file:///~/AppData/Local/Programs/Python/Python310/lib/site-packages/paramiko/sftp_client.py?line=760'>761</a>\u001b[0m \u001b[39mdef\u001b[39;00m \u001b[39mgetfo\u001b[39m(\u001b[39mself\u001b[39m, remotepath, fl, callback\u001b[39m=\u001b[39m\u001b[39mNone\u001b[39;00m, prefetch\u001b[39m=\u001b[39m\u001b[39mTrue\u001b[39;00m):\n\u001b[0;32m    <a href='file:///~/AppData/Local/Programs/Python/Python310/lib/site-packages/paramiko/sftp_client.py?line=761'>762</a>\u001b[0m     \u001b[39m\"\"\"\u001b[39;00m\n\u001b[0;32m    <a href='file:///~/AppData/Local/Programs/Python/Python310/lib/site-packages/paramiko/sftp_client.py?line=762'>763</a>\u001b[0m \u001b[39m    Copy a remote file (``remotepath``) from the SFTP server and write to\u001b[39;00m\n\u001b[0;32m    <a href='file:///~/AppData/Local/Programs/Python/Python310/lib/site-packages/paramiko/sftp_client.py?line=763'>764</a>\u001b[0m \u001b[39m    an open file or file-like object, ``fl``.  Any exception raised by\u001b[39;00m\n\u001b[1;32m   (...)\u001b[0m\n\u001b[0;32m    <a href='file:///~/AppData/Local/Programs/Python/Python310/lib/site-packages/paramiko/sftp_client.py?line=779'>780</a>\u001b[0m \u001b[39m        Added the ``prefetch`` keyword argument.\u001b[39;00m\n\u001b[0;32m    <a href='file:///~/AppData/Local/Programs/Python/Python310/lib/site-packages/paramiko/sftp_client.py?line=780'>781</a>\u001b[0m \u001b[39m    \"\"\"\u001b[39;00m\n\u001b[1;32m--> <a href='file:///~/AppData/Local/Programs/Python/Python310/lib/site-packages/paramiko/sftp_client.py?line=781'>782</a>\u001b[0m     file_size \u001b[39m=\u001b[39m \u001b[39mself\u001b[39;49m\u001b[39m.\u001b[39;49mstat(remotepath)\u001b[39m.\u001b[39mst_size\n\u001b[0;32m    <a href='file:///~/AppData/Local/Programs/Python/Python310/lib/site-packages/paramiko/sftp_client.py?line=782'>783</a>\u001b[0m     \u001b[39mwith\u001b[39;00m \u001b[39mself\u001b[39m\u001b[39m.\u001b[39mopen(remotepath, \u001b[39m\"\u001b[39m\u001b[39mrb\u001b[39m\u001b[39m\"\u001b[39m) \u001b[39mas\u001b[39;00m fr:\n\u001b[0;32m    <a href='file:///~/AppData/Local/Programs/Python/Python310/lib/site-packages/paramiko/sftp_client.py?line=783'>784</a>\u001b[0m         \u001b[39mif\u001b[39;00m prefetch:\n",
      "File \u001b[1;32m~\\AppData\\Local\\Programs\\Python\\Python310\\lib\\site-packages\\paramiko\\sftp_client.py:493\u001b[0m, in \u001b[0;36mSFTPClient.stat\u001b[1;34m(self, path)\u001b[0m\n\u001b[0;32m    <a href='file:///~/AppData/Local/Programs/Python/Python310/lib/site-packages/paramiko/sftp_client.py?line=490'>491</a>\u001b[0m path \u001b[39m=\u001b[39m \u001b[39mself\u001b[39m\u001b[39m.\u001b[39m_adjust_cwd(path)\n\u001b[0;32m    <a href='file:///~/AppData/Local/Programs/Python/Python310/lib/site-packages/paramiko/sftp_client.py?line=491'>492</a>\u001b[0m \u001b[39mself\u001b[39m\u001b[39m.\u001b[39m_log(DEBUG, \u001b[39m\"\u001b[39m\u001b[39mstat(\u001b[39m\u001b[39m{!r}\u001b[39;00m\u001b[39m)\u001b[39m\u001b[39m\"\u001b[39m\u001b[39m.\u001b[39mformat(path))\n\u001b[1;32m--> <a href='file:///~/AppData/Local/Programs/Python/Python310/lib/site-packages/paramiko/sftp_client.py?line=492'>493</a>\u001b[0m t, msg \u001b[39m=\u001b[39m \u001b[39mself\u001b[39;49m\u001b[39m.\u001b[39;49m_request(CMD_STAT, path)\n\u001b[0;32m    <a href='file:///~/AppData/Local/Programs/Python/Python310/lib/site-packages/paramiko/sftp_client.py?line=493'>494</a>\u001b[0m \u001b[39mif\u001b[39;00m t \u001b[39m!=\u001b[39m CMD_ATTRS:\n\u001b[0;32m    <a href='file:///~/AppData/Local/Programs/Python/Python310/lib/site-packages/paramiko/sftp_client.py?line=494'>495</a>\u001b[0m     \u001b[39mraise\u001b[39;00m SFTPError(\u001b[39m\"\u001b[39m\u001b[39mExpected attributes\u001b[39m\u001b[39m\"\u001b[39m)\n",
      "File \u001b[1;32m~\\AppData\\Local\\Programs\\Python\\Python310\\lib\\site-packages\\paramiko\\sftp_client.py:822\u001b[0m, in \u001b[0;36mSFTPClient._request\u001b[1;34m(self, t, *arg)\u001b[0m\n\u001b[0;32m    <a href='file:///~/AppData/Local/Programs/Python/Python310/lib/site-packages/paramiko/sftp_client.py?line=819'>820</a>\u001b[0m \u001b[39mdef\u001b[39;00m \u001b[39m_request\u001b[39m(\u001b[39mself\u001b[39m, t, \u001b[39m*\u001b[39marg):\n\u001b[0;32m    <a href='file:///~/AppData/Local/Programs/Python/Python310/lib/site-packages/paramiko/sftp_client.py?line=820'>821</a>\u001b[0m     num \u001b[39m=\u001b[39m \u001b[39mself\u001b[39m\u001b[39m.\u001b[39m_async_request(\u001b[39mtype\u001b[39m(\u001b[39mNone\u001b[39;00m), t, \u001b[39m*\u001b[39marg)\n\u001b[1;32m--> <a href='file:///~/AppData/Local/Programs/Python/Python310/lib/site-packages/paramiko/sftp_client.py?line=821'>822</a>\u001b[0m     \u001b[39mreturn\u001b[39;00m \u001b[39mself\u001b[39;49m\u001b[39m.\u001b[39;49m_read_response(num)\n",
      "File \u001b[1;32m~\\AppData\\Local\\Programs\\Python\\Python310\\lib\\site-packages\\paramiko\\sftp_client.py:874\u001b[0m, in \u001b[0;36mSFTPClient._read_response\u001b[1;34m(self, waitfor)\u001b[0m\n\u001b[0;32m    <a href='file:///~/AppData/Local/Programs/Python/Python310/lib/site-packages/paramiko/sftp_client.py?line=870'>871</a>\u001b[0m \u001b[39mif\u001b[39;00m num \u001b[39m==\u001b[39m waitfor:\n\u001b[0;32m    <a href='file:///~/AppData/Local/Programs/Python/Python310/lib/site-packages/paramiko/sftp_client.py?line=871'>872</a>\u001b[0m     \u001b[39m# synchronous\u001b[39;00m\n\u001b[0;32m    <a href='file:///~/AppData/Local/Programs/Python/Python310/lib/site-packages/paramiko/sftp_client.py?line=872'>873</a>\u001b[0m     \u001b[39mif\u001b[39;00m t \u001b[39m==\u001b[39m CMD_STATUS:\n\u001b[1;32m--> <a href='file:///~/AppData/Local/Programs/Python/Python310/lib/site-packages/paramiko/sftp_client.py?line=873'>874</a>\u001b[0m         \u001b[39mself\u001b[39;49m\u001b[39m.\u001b[39;49m_convert_status(msg)\n\u001b[0;32m    <a href='file:///~/AppData/Local/Programs/Python/Python310/lib/site-packages/paramiko/sftp_client.py?line=874'>875</a>\u001b[0m     \u001b[39mreturn\u001b[39;00m t, msg\n\u001b[0;32m    <a href='file:///~/AppData/Local/Programs/Python/Python310/lib/site-packages/paramiko/sftp_client.py?line=876'>877</a>\u001b[0m \u001b[39m# can not rewrite this to deal with E721, either as a None check\u001b[39;00m\n\u001b[0;32m    <a href='file:///~/AppData/Local/Programs/Python/Python310/lib/site-packages/paramiko/sftp_client.py?line=877'>878</a>\u001b[0m \u001b[39m# nor as not an instance of None or NoneType\u001b[39;00m\n",
      "File \u001b[1;32m~\\AppData\\Local\\Programs\\Python\\Python310\\lib\\site-packages\\paramiko\\sftp_client.py:903\u001b[0m, in \u001b[0;36mSFTPClient._convert_status\u001b[1;34m(self, msg)\u001b[0m\n\u001b[0;32m    <a href='file:///~/AppData/Local/Programs/Python/Python310/lib/site-packages/paramiko/sftp_client.py?line=899'>900</a>\u001b[0m     \u001b[39mraise\u001b[39;00m \u001b[39mEOFError\u001b[39;00m(text)\n\u001b[0;32m    <a href='file:///~/AppData/Local/Programs/Python/Python310/lib/site-packages/paramiko/sftp_client.py?line=900'>901</a>\u001b[0m \u001b[39melif\u001b[39;00m code \u001b[39m==\u001b[39m SFTP_NO_SUCH_FILE:\n\u001b[0;32m    <a href='file:///~/AppData/Local/Programs/Python/Python310/lib/site-packages/paramiko/sftp_client.py?line=901'>902</a>\u001b[0m     \u001b[39m# clever idea from john a. meinel: map the error codes to errno\u001b[39;00m\n\u001b[1;32m--> <a href='file:///~/AppData/Local/Programs/Python/Python310/lib/site-packages/paramiko/sftp_client.py?line=902'>903</a>\u001b[0m     \u001b[39mraise\u001b[39;00m \u001b[39mIOError\u001b[39;00m(errno\u001b[39m.\u001b[39mENOENT, text)\n\u001b[0;32m    <a href='file:///~/AppData/Local/Programs/Python/Python310/lib/site-packages/paramiko/sftp_client.py?line=903'>904</a>\u001b[0m \u001b[39melif\u001b[39;00m code \u001b[39m==\u001b[39m SFTP_PERMISSION_DENIED:\n\u001b[0;32m    <a href='file:///~/AppData/Local/Programs/Python/Python310/lib/site-packages/paramiko/sftp_client.py?line=904'>905</a>\u001b[0m     \u001b[39mraise\u001b[39;00m \u001b[39mIOError\u001b[39;00m(errno\u001b[39m.\u001b[39mEACCES, text)\n",
      "\u001b[1;31mFileNotFoundError\u001b[0m: [Errno 2] No such file"
     ]
    }
   ],
   "source": [
    "sftp = ssh.open_sftp()\n",
    "\n",
    "# List of files to download\n",
    "files = ['../../Logs/W32_Processes/w32processes/0000DCDSL.parquet.csv']\n",
    "\n",
    "# Loop through thr files and download them.\n",
    "for eachFile in files:\n",
    "\n",
    "    #Create a list from the filename\n",
    "\n",
    "    x = eachFile.split(\"/\")\n",
    "\n",
    "    #print(x)\n",
    "\n",
    "    # -1 is used to pluck the last element in a list.\n",
    "    \n",
    "    filename = x[-1]\n",
    "\n",
    "    # print(filename)\n",
    "\n",
    "    # Local path to store files\n",
    "\n",
    "    local_path = \"C:\\\\Users\\\\Asani-Web\\\\Documents\\\\Vessup_SYS-320\\\\Week06/Class\\\\\" + filename\n",
    "\n",
    "\n",
    "    sftp.get(eachFile, local_path)\n",
    "\n",
    "#sftp.get(\"C:/Users/Asani-Web/Documents/Vessup_SYS-320/Week06/Class/hostFiles\", 'C:/Users/Asani-Web/Documents/Vessup_SYS-320/Week06/Class/hostFiles')\n",
    "\n",
    "ssh.close()\n",
    "\n"
   ]
  }
 ],
 "metadata": {
  "interpreter": {
   "hash": "7e09793f59487857eba5be0a5009362c3fb3c735a88fb50a6a541882b99f2325"
  },
  "kernelspec": {
   "display_name": "Python 3.10.0 64-bit",
   "language": "python",
   "name": "python3"
  },
  "language_info": {
   "codemirror_mode": {
    "name": "ipython",
    "version": 3
   },
   "file_extension": ".py",
   "mimetype": "text/x-python",
   "name": "python",
   "nbconvert_exporter": "python",
   "pygments_lexer": "ipython3",
   "version": "3.10.0"
  },
  "orig_nbformat": 4
 },
 "nbformat": 4,
 "nbformat_minor": 2
}
