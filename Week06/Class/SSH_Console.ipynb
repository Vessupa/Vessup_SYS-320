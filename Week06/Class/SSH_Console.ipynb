{
 "cells": [
  {
   "cell_type": "code",
   "execution_count": 1,
   "metadata": {},
   "outputs": [
    {
     "name": "stdout",
     "output_type": "stream",
     "text": [
      "Authentication failed.\n"
     ]
    }
   ],
   "source": [
    "import paramiko\n",
    "from getpass import getpass\n",
    "\n",
    "# Create the password prompt\n",
    "thePass = getpass(prompt=\"Please enter your SSH password: \")\n",
    "\n",
    "# Host information\n",
    "host = \"127.0.0.1\"\n",
    "port = 22\n",
    "username = \"asani-web\"\n",
    "password = thePass\n",
    "\n",
    "try:\n",
    "\n",
    "    ssh = paramiko.SSHClient()\n",
    "    ssh.set_missing_host_key_policy(paramiko.AutoAddPolicy())\n",
    "    ssh.connect(host, port, username, password)\n",
    "\n",
    "except paramiko.AuthenticationException:\n",
    "    print(\"Authentication failed.\")"
   ]
  },
  {
   "cell_type": "code",
   "execution_count": null,
   "metadata": {},
   "outputs": [
    {
     "name": "stderr",
     "output_type": "stream",
     "text": [
      "Socket exception: An existing connection was forcibly closed by the remote host (10054)\n"
     ]
    }
   ],
   "source": [
    "# Run a single command\n",
    "#command = \"whoami\"\n",
    "\n",
    "# Run a list of commands\n",
    "command = ['whoami','echo Hi']\n",
    "\n",
    "for eachCMD in command:\n",
    "    # Get the output from the command\n",
    "    stdin, stdout, stderr = ssh.exec_command(eachCMD)\n",
    "\n",
    "    # Get results from stdout\n",
    "    lines = stdout.readline()\n",
    "    #print(lines)\n",
    "\n",
    "    # Convert the list to a string\n",
    "    output = ''.join(lines)\n",
    "\n",
    "    # Header output\n",
    "\n",
    "    sepHeader = '' + '### BEGIN ' + eachCMD + ' ###\\n\\n'\n",
    "\n",
    "    #Footer\n",
    "    sepFooter = '' + '### END ' + eachCMD + ' ###\\n\\n'\n",
    "\n",
    "    cmd_output = sepHeader + output + sepFooter\n",
    "\n",
    "    # Save the cmd_output to a file\n",
    "\n",
    "    with open('ssh_results.txt', 'a') as f:\n",
    "        f.write(cmd_output)\n",
    "    print(cmd_output)\n",
    "\n",
    "    #print(output)\n",
    "\n",
    "ssh.close()"
   ]
  }
 ],
 "metadata": {
  "interpreter": {
   "hash": "7e09793f59487857eba5be0a5009362c3fb3c735a88fb50a6a541882b99f2325"
  },
  "kernelspec": {
   "display_name": "Python 3.10.0 64-bit",
   "language": "python",
   "name": "python3"
  },
  "language_info": {
   "codemirror_mode": {
    "name": "ipython",
    "version": 3
   },
   "file_extension": ".py",
   "mimetype": "text/x-python",
   "name": "python",
   "nbconvert_exporter": "python",
   "pygments_lexer": "ipython3",
   "version": "3.10.0"
  },
  "orig_nbformat": 4
 },
 "nbformat": 4,
 "nbformat_minor": 2
}
