{
 "cells": [
  {
   "cell_type": "code",
   "execution_count": 2,
   "metadata": {},
   "outputs": [],
   "source": [
    "import paramiko\n",
    "from getpass import getpass\n",
    "\n",
    "# Create the password prompt\n",
    "thePass = getpass(prompt=\"Please enter your SSH password: \")\n",
    "\n",
    "# Host information\n",
    "host = \"192.168.3.132\"\n",
    "port = 22\n",
    "username = \"root\"\n",
    "password = thePass\n",
    "\n",
    "try:\n",
    "\n",
    "    ssh = paramiko.SSHClient()\n",
    "    ssh.set_missing_host_key_policy(paramiko.AutoAddPolicy())\n",
    "    ssh.connect(host, port, username, password)\n",
    "\n",
    "except paramiko.AuthenticationException:\n",
    "    print(\"Authentication failed.\")"
   ]
  },
  {
   "cell_type": "code",
   "execution_count": 3,
   "metadata": {},
   "outputs": [
    {
     "ename": "PermissionError",
     "evalue": "[Errno 13] Permission denied: '/etc0000DCDSL.parquet.csv'",
     "output_type": "error",
     "traceback": [
      "\u001b[1;31m---------------------------------------------------------------------------\u001b[0m",
      "\u001b[1;31mPermissionError\u001b[0m                           Traceback (most recent call last)",
      "\u001b[1;32mc:\\Users\\Asani-Web\\Documents\\Vessup_SYS-320\\Week06\\Class\\sftp_Console.ipynb Cell 2'\u001b[0m in \u001b[0;36m<module>\u001b[1;34m\u001b[0m\n\u001b[0;32m     <a href='vscode-notebook-cell:/c%3A/Users/Asani-Web/Documents/Vessup_SYS-320/Week06/Class/sftp_Console.ipynb#ch0000001?line=18'>19</a>\u001b[0m     \u001b[39m# print(filename)\u001b[39;00m\n\u001b[0;32m     <a href='vscode-notebook-cell:/c%3A/Users/Asani-Web/Documents/Vessup_SYS-320/Week06/Class/sftp_Console.ipynb#ch0000001?line=19'>20</a>\u001b[0m \n\u001b[0;32m     <a href='vscode-notebook-cell:/c%3A/Users/Asani-Web/Documents/Vessup_SYS-320/Week06/Class/sftp_Console.ipynb#ch0000001?line=20'>21</a>\u001b[0m     \u001b[39m# Local path to store files\u001b[39;00m\n\u001b[0;32m     <a href='vscode-notebook-cell:/c%3A/Users/Asani-Web/Documents/Vessup_SYS-320/Week06/Class/sftp_Console.ipynb#ch0000001?line=22'>23</a>\u001b[0m     local_path \u001b[39m=\u001b[39m \u001b[39m\"\u001b[39m\u001b[39m/etc\u001b[39m\u001b[39m\"\u001b[39m \u001b[39m+\u001b[39m filename\n\u001b[1;32m---> <a href='vscode-notebook-cell:/c%3A/Users/Asani-Web/Documents/Vessup_SYS-320/Week06/Class/sftp_Console.ipynb#ch0000001?line=25'>26</a>\u001b[0m     sftp\u001b[39m.\u001b[39;49mget(eachFile, local_path)\n\u001b[0;32m     <a href='vscode-notebook-cell:/c%3A/Users/Asani-Web/Documents/Vessup_SYS-320/Week06/Class/sftp_Console.ipynb#ch0000001?line=27'>28</a>\u001b[0m \u001b[39m#sftp.get(\"C:/Users/Asani-Web/Documents/Vessup_SYS-320/Week06/Class/hostFiles\", 'C:/Users/Asani-Web/Documents/Vessup_SYS-320/Week06/Class/hostFiles')\u001b[39;00m\n\u001b[0;32m     <a href='vscode-notebook-cell:/c%3A/Users/Asani-Web/Documents/Vessup_SYS-320/Week06/Class/sftp_Console.ipynb#ch0000001?line=29'>30</a>\u001b[0m ssh\u001b[39m.\u001b[39mclose()\n",
      "File \u001b[1;32m~\\AppData\\Local\\Programs\\Python\\Python310\\lib\\site-packages\\paramiko\\sftp_client.py:810\u001b[0m, in \u001b[0;36mSFTPClient.get\u001b[1;34m(self, remotepath, localpath, callback, prefetch)\u001b[0m\n\u001b[0;32m    <a href='file:///~/AppData/Local/Programs/Python/Python310/lib/site-packages/paramiko/sftp_client.py?line=789'>790</a>\u001b[0m \u001b[39mdef\u001b[39;00m \u001b[39mget\u001b[39m(\u001b[39mself\u001b[39m, remotepath, localpath, callback\u001b[39m=\u001b[39m\u001b[39mNone\u001b[39;00m, prefetch\u001b[39m=\u001b[39m\u001b[39mTrue\u001b[39;00m):\n\u001b[0;32m    <a href='file:///~/AppData/Local/Programs/Python/Python310/lib/site-packages/paramiko/sftp_client.py?line=790'>791</a>\u001b[0m     \u001b[39m\"\"\"\u001b[39;00m\n\u001b[0;32m    <a href='file:///~/AppData/Local/Programs/Python/Python310/lib/site-packages/paramiko/sftp_client.py?line=791'>792</a>\u001b[0m \u001b[39m    Copy a remote file (``remotepath``) from the SFTP server to the local\u001b[39;00m\n\u001b[0;32m    <a href='file:///~/AppData/Local/Programs/Python/Python310/lib/site-packages/paramiko/sftp_client.py?line=792'>793</a>\u001b[0m \u001b[39m    host as ``localpath``.  Any exception raised by operations will be\u001b[39;00m\n\u001b[1;32m   (...)\u001b[0m\n\u001b[0;32m    <a href='file:///~/AppData/Local/Programs/Python/Python310/lib/site-packages/paramiko/sftp_client.py?line=807'>808</a>\u001b[0m \u001b[39m        Added the ``prefetch`` keyword argument.\u001b[39;00m\n\u001b[0;32m    <a href='file:///~/AppData/Local/Programs/Python/Python310/lib/site-packages/paramiko/sftp_client.py?line=808'>809</a>\u001b[0m \u001b[39m    \"\"\"\u001b[39;00m\n\u001b[1;32m--> <a href='file:///~/AppData/Local/Programs/Python/Python310/lib/site-packages/paramiko/sftp_client.py?line=809'>810</a>\u001b[0m     \u001b[39mwith\u001b[39;00m \u001b[39mopen\u001b[39;49m(localpath, \u001b[39m\"\u001b[39;49m\u001b[39mwb\u001b[39;49m\u001b[39m\"\u001b[39;49m) \u001b[39mas\u001b[39;00m fl:\n\u001b[0;32m    <a href='file:///~/AppData/Local/Programs/Python/Python310/lib/site-packages/paramiko/sftp_client.py?line=810'>811</a>\u001b[0m         size \u001b[39m=\u001b[39m \u001b[39mself\u001b[39m\u001b[39m.\u001b[39mgetfo(remotepath, fl, callback, prefetch)\n\u001b[0;32m    <a href='file:///~/AppData/Local/Programs/Python/Python310/lib/site-packages/paramiko/sftp_client.py?line=811'>812</a>\u001b[0m     s \u001b[39m=\u001b[39m os\u001b[39m.\u001b[39mstat(localpath)\n",
      "\u001b[1;31mPermissionError\u001b[0m: [Errno 13] Permission denied: '/etc0000DCDSL.parquet.csv'"
     ]
    }
   ],
   "source": [
    "sftp = ssh.open_sftp()\n",
    "\n",
    "# List of files to download\n",
    "files = ['0000DCDSL.parquet.csv']\n",
    "\n",
    "# Loop through thr files and download them.\n",
    "for eachFile in files:\n",
    "\n",
    "    # Create a list from the filename\n",
    "\n",
    "    x = eachFile.split(\"/\")\n",
    "\n",
    "    # print(x)\n",
    "\n",
    "    # -1 is used to pluck the last element in a list.\n",
    "    \n",
    "    filename = x[-1]\n",
    "\n",
    "    # print(filename)\n",
    "\n",
    "    # Local path to store files\n",
    "\n",
    "    local_path = \"/etc\" + filename\n",
    "\n",
    "\n",
    "    sftp.get(eachFile, local_path)\n",
    "\n",
    "#sftp.get(\"C:/Users/Asani-Web/Documents/Vessup_SYS-320/Week06/Class/hostFiles\", 'C:/Users/Asani-Web/Documents/Vessup_SYS-320/Week06/Class/hostFiles')\n",
    "\n",
    "ssh.close()\n",
    "\n"
   ]
  }
 ],
 "metadata": {
  "interpreter": {
   "hash": "7e09793f59487857eba5be0a5009362c3fb3c735a88fb50a6a541882b99f2325"
  },
  "kernelspec": {
   "display_name": "Python 3.10.0 64-bit",
   "language": "python",
   "name": "python3"
  },
  "language_info": {
   "codemirror_mode": {
    "name": "ipython",
    "version": 3
   },
   "file_extension": ".py",
   "mimetype": "text/x-python",
   "name": "python",
   "nbconvert_exporter": "python",
   "pygments_lexer": "ipython3",
   "version": "3.10.0"
  },
  "orig_nbformat": 4
 },
 "nbformat": 4,
 "nbformat_minor": 2
}
